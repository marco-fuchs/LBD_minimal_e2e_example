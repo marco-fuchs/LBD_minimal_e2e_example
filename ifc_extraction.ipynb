{
 "cells": [
  {
   "cell_type": "code",
   "execution_count": 67,
   "metadata": {},
   "outputs": [],
   "source": [
    "# !pip install -r requirements.txt"
   ]
  },
  {
   "cell_type": "code",
   "execution_count": 68,
   "metadata": {},
   "outputs": [],
   "source": [
    "import ifcopenshell\n",
    "import rdflib\n",
    "import pyshacl\n",
    "from rdflib import Graph, Literal, BNode, Namespace, RDF, URIRef, OWL, XSD\n",
    "from rdflib.namespace import DC, FOAF\n",
    "from ifcopenshell.util.element import get_psets\n",
    "\n",
    "# Open the IFC file\n",
    "ifc_file = ifcopenshell.open('./data/Atlas_8_floor.ifc')"
   ]
  },
  {
   "cell_type": "code",
   "execution_count": 70,
   "metadata": {},
   "outputs": [],
   "source": [
    "g = Graph()\n",
    "SCHEMA = Namespace(\"https://schema.org/\")\n",
    "GEO = Namespace(\"http://www.w3.org/2003/01/geo/wgs84_pos#\")\n",
    "OTLB = Namespace(\"https://schema.example.ch/otl/base\")\n",
    "OTL = Namespace(\"https://schema.example.ch/otl/\")\n",
    "DATA = Namespace(\"https://data.example.ch/\")"
   ]
  },
  {
   "cell_type": "code",
   "execution_count": 71,
   "metadata": {},
   "outputs": [
    {
     "name": "stdout",
     "output_type": "stream",
     "text": [
      "@prefix otl: <https://schema.example.ch/otl/> .\n",
      "@prefix xsd: <http://www.w3.org/2001/XMLSchema#> .\n",
      "\n",
      "<https://data.example.ch/0TWrSBEvj7$BuYv3P4M6fG> a otl:Stair ;\n",
      "    otl:IsExternal false ;\n",
      "    otl:NosingLength \"0.0\"^^xsd:float ;\n",
      "    otl:NumberOfRiser \"0.0\"^^xsd:float ;\n",
      "    otl:NumberOfTreads \"0.0\"^^xsd:float ;\n",
      "    otl:Reference \"190mm max riser 250mm going\"^^xsd:string ;\n",
      "    otl:id 299073 .\n",
      "\n",
      "<https://data.example.ch/0qT631TWf0IwT1wFys3KdH> a otl:Stair ;\n",
      "    otl:IsExternal false ;\n",
      "    otl:NosingLength \"0.0\"^^xsd:float ;\n",
      "    otl:NumberOfRiser \"22.0\"^^xsd:float ;\n",
      "    otl:NumberOfTreads \"21.0\"^^xsd:float ;\n",
      "    otl:Reference \"190mm max riser 250mm going\"^^xsd:string ;\n",
      "    otl:RiserHeight \"0.181818181817031\"^^xsd:float ;\n",
      "    otl:TreadLength \"0.25\"^^xsd:float ;\n",
      "    otl:TreadLengthAtInnerSide \"0.25\"^^xsd:float ;\n",
      "    otl:TreadLengthAtOffset \"0.25\"^^xsd:float ;\n",
      "    otl:id 298862 .\n",
      "\n",
      "<https://data.example.ch/2G8FWepbLFNPaY9uTwv0w$> a otl:Stair ;\n",
      "    otl:IsExternal false ;\n",
      "    otl:NosingLength \"0.0\"^^xsd:float ;\n",
      "    otl:NumberOfRiser \"0.0\"^^xsd:float ;\n",
      "    otl:NumberOfTreads \"0.0\"^^xsd:float ;\n",
      "    otl:Reference \"190mm max riser 250mm going\"^^xsd:string ;\n",
      "    otl:id 244766 .\n",
      "\n",
      "<https://data.example.ch/2XFVGLalX4ifUdAEsElx54> a otl:Stair ;\n",
      "    otl:IsExternal false ;\n",
      "    otl:NosingLength \"0.0\"^^xsd:float ;\n",
      "    otl:NumberOfRiser \"0.0\"^^xsd:float ;\n",
      "    otl:NumberOfTreads \"0.0\"^^xsd:float ;\n",
      "    otl:Reference \"190mm max riser 250mm going\"^^xsd:string ;\n",
      "    otl:id 251922 .\n",
      "\n",
      "<https://data.example.ch/2tT4lurefEGuiwmAag0on9> a otl:Stair ;\n",
      "    otl:IsExternal false ;\n",
      "    otl:NosingLength \"0.0\"^^xsd:float ;\n",
      "    otl:NumberOfRiser \"21.0\"^^xsd:float ;\n",
      "    otl:NumberOfTreads \"21.0\"^^xsd:float ;\n",
      "    otl:Reference \"190mm max riser 250mm going\"^^xsd:string ;\n",
      "    otl:RiserHeight \"0.181818181817031\"^^xsd:float ;\n",
      "    otl:TreadLength \"0.25\"^^xsd:float ;\n",
      "    otl:TreadLengthAtInnerSide \"0.25\"^^xsd:float ;\n",
      "    otl:TreadLengthAtOffset \"0.25\"^^xsd:float ;\n",
      "    otl:id 244529 .\n",
      "\n",
      "<https://data.example.ch/2trwIWdtX79wbxeLxBD60x> a otl:Stair ;\n",
      "    otl:IsExternal false ;\n",
      "    otl:NosingLength \"0.0\"^^xsd:float ;\n",
      "    otl:NumberOfRiser \"21.0\"^^xsd:float ;\n",
      "    otl:NumberOfTreads \"21.0\"^^xsd:float ;\n",
      "    otl:Reference \"190mm max riser 250mm going\"^^xsd:string ;\n",
      "    otl:RiserHeight \"0.181818181817031\"^^xsd:float ;\n",
      "    otl:TreadLength \"0.25\"^^xsd:float ;\n",
      "    otl:TreadLengthAtInnerSide \"0.25\"^^xsd:float ;\n",
      "    otl:TreadLengthAtOffset \"0.25\"^^xsd:float ;\n",
      "    otl:id 251790 .\n",
      "\n",
      "\n"
     ]
    }
   ],
   "source": [
    "g = Graph()\n",
    "g.bind(\"schemaorg\", SCHEMA)\n",
    "g.bind(\"geo\", GEO)\n",
    "g.bind(\"otlb\", OTLB)\n",
    "g.bind(\"otl\", OTL)\n",
    "\n",
    "element_type = 'IfcStair'\n",
    "elements = ifc_file.by_type('IfcRoot')\n",
    "\n",
    "relevant_pset = \"Pset_StairCommon\"\n",
    "relevant_object = \"STRAIGHT_RUN_STAIR\"\n",
    "\n",
    "for element in elements: # Loop over the elements -> If defined in OTL -> Add to graph\n",
    "    element_info = element.get_info()\n",
    "    predef_type = element_info.get('PredefinedType')\n",
    "    \n",
    "    if predef_type != relevant_object:\n",
    "        continue\n",
    "\n",
    "    pset = get_psets(element)[relevant_pset]\n",
    "\n",
    "    # TODO: Here Mapping for system reference to object class predef_type\n",
    "    g.add((DATA[element.GlobalId], RDF.type, OTL[\"Stair\"])) # Write the object to the graph\n",
    "\n",
    "    for key, value in pset.items():\n",
    "        if isinstance(value, bool):\n",
    "            datatype = XSD.boolean\n",
    "        elif isinstance(value, int):\n",
    "            datatype = XSD.integer\n",
    "        elif isinstance(value, float):\n",
    "            datatype = XSD.float\n",
    "        else:\n",
    "            datatype = XSD.string\n",
    "\n",
    "        g.add((DATA[element.GlobalId], OTL[key], Literal(value, datatype=datatype)))\n",
    "\n",
    "print(g.serialize(format='turtle'))"
   ]
  },
  {
   "cell_type": "code",
   "execution_count": 74,
   "metadata": {},
   "outputs": [
    {
     "data": {
      "text/plain": [
       "<Graph identifier=N299f9eaf53ae46da9cd27df421988b87 (<class 'rdflib.graph.Graph'>)>"
      ]
     },
     "execution_count": 74,
     "metadata": {},
     "output_type": "execute_result"
    }
   ],
   "source": [
    "# Create a graph object\n",
    "shape_graph = Graph()\n",
    "shape_graph.parse(\"./otl/build_profile.ttl\", format=\"turtle\")\n",
    "# print(shape_graph.serialize(format=\"turtle\"))"
   ]
  },
  {
   "cell_type": "code",
   "execution_count": 73,
   "metadata": {},
   "outputs": [
    {
     "name": "stdout",
     "output_type": "stream",
     "text": [
      "False\n",
      "Validation Report\n",
      "Conforms: False\n",
      "Results (3):\n",
      "Constraint Violation in MinInclusiveConstraintComponent (http://www.w3.org/ns/shacl#MinInclusiveConstraintComponent):\n",
      "\tSeverity: sh:Violation\n",
      "\tSource Shape: [ sh:minCount Literal(\"1\", datatype=xsd:integer) ; sh:minInclusive Literal(\"20\", datatype=xsd:integer) ; sh:path otl:NumberOfRiser ]\n",
      "\tFocus Node: <https://data.example.ch/2XFVGLalX4ifUdAEsElx54>\n",
      "\tValue Node: Literal(\"0.0\", datatype=xsd:float)\n",
      "\tResult Path: otl:NumberOfRiser\n",
      "\tMessage: Value is not >= Literal(\"20\", datatype=xsd:integer)\n",
      "Constraint Violation in MinInclusiveConstraintComponent (http://www.w3.org/ns/shacl#MinInclusiveConstraintComponent):\n",
      "\tSeverity: sh:Violation\n",
      "\tSource Shape: [ sh:minCount Literal(\"1\", datatype=xsd:integer) ; sh:minInclusive Literal(\"20\", datatype=xsd:integer) ; sh:path otl:NumberOfRiser ]\n",
      "\tFocus Node: <https://data.example.ch/2G8FWepbLFNPaY9uTwv0w$>\n",
      "\tValue Node: Literal(\"0.0\", datatype=xsd:float)\n",
      "\tResult Path: otl:NumberOfRiser\n",
      "\tMessage: Value is not >= Literal(\"20\", datatype=xsd:integer)\n",
      "Constraint Violation in MinInclusiveConstraintComponent (http://www.w3.org/ns/shacl#MinInclusiveConstraintComponent):\n",
      "\tSeverity: sh:Violation\n",
      "\tSource Shape: [ sh:minCount Literal(\"1\", datatype=xsd:integer) ; sh:minInclusive Literal(\"20\", datatype=xsd:integer) ; sh:path otl:NumberOfRiser ]\n",
      "\tFocus Node: <https://data.example.ch/0TWrSBEvj7$BuYv3P4M6fG>\n",
      "\tValue Node: Literal(\"0.0\", datatype=xsd:float)\n",
      "\tResult Path: otl:NumberOfRiser\n",
      "\tMessage: Value is not >= Literal(\"20\", datatype=xsd:integer)\n",
      "\n"
     ]
    }
   ],
   "source": [
    "conforms, results_graph, results_text = pyshacl.validate(g, shacl_graph=shape_graph)\n",
    "print(conforms)\n",
    "print(results_text)"
   ]
  }
 ],
 "metadata": {
  "kernelspec": {
   "display_name": "venv",
   "language": "python",
   "name": "python3"
  },
  "language_info": {
   "codemirror_mode": {
    "name": "ipython",
    "version": 3
   },
   "file_extension": ".py",
   "mimetype": "text/x-python",
   "name": "python",
   "nbconvert_exporter": "python",
   "pygments_lexer": "ipython3",
   "version": "3.12.2"
  }
 },
 "nbformat": 4,
 "nbformat_minor": 2
}
