{
 "cells": [
  {
   "cell_type": "code",
   "execution_count": 6,
   "metadata": {},
   "outputs": [],
   "source": [
    "import ifcopenshell\n",
    "from rdflib import Graph, Literal, BNode, Namespace, RDF, URIRef, OWL, XSD\n",
    "from rdflib.namespace import DC, FOAF\n",
    "from ifctester import ids, reporter"
   ]
  },
  {
   "cell_type": "code",
   "execution_count": 4,
   "metadata": {},
   "outputs": [],
   "source": [
    "\n",
    "# Create an IDS object\n",
    "my_ids = ids.Ids(title=\"Stair Riser Count Verification\", purpose=\"Ensure stair riser count is greater than 0\")\n",
    "\n",
    "# Create a specification for IfcStair\n",
    "stair_spec = ids.Specification(\n",
    "    name=\"Stair NumberOfRiser Check\",\n",
    "    identifier=\"StairNumberOfRiserMinExclusive\",\n",
    "    ifcVersion=\"IFC2X3\"\n",
    ")\n",
    "\n",
    "# Specify the applicability to IfcStair\n",
    "stair_spec.applicability.append(ids.Entity(name=\"IFCSTAIR\"))\n",
    "\n",
    "# Define the restriction for the property (NumberOfRiser > 0)\n",
    "riser_restriction = ids.Restriction(\n",
    "    options={\"minExclusive\": 0},  # Ensure NumberOfRiser is greater than 0\n",
    "    base=\"integer\"\n",
    ")\n",
    "\n",
    "# Define the property to check (NumberOfRiser)\n",
    "riser_property = ids.Property(\n",
    "    propertySet=\"Pset_StairCommon\",\n",
    "    baseName=\"NumberOfRiser\",\n",
    "    cardinality=\"required\",\n",
    "    dataType=\"IfcPositiveInteger\",\n",
    "    instructions=\"Ensure the stair has more than 0 risers.\",\n",
    "    value=riser_restriction\n",
    ")\n",
    "\n",
    "# Add the property requirement to the specification\n",
    "stair_spec.requirements.append(riser_property)\n",
    "\n",
    "# Add the specification to the IDS\n",
    "my_ids.specifications.append(stair_spec)\n",
    "\n",
    "# Save the IDS to an XML file\n",
    "result = my_ids.to_xml(\"Stair_Riser_Count_Verification.ids\")"
   ]
  },
  {
   "cell_type": "markdown",
   "metadata": {},
   "source": [
    "## Validate IFC with IDS"
   ]
  },
  {
   "cell_type": "code",
   "execution_count": 7,
   "metadata": {},
   "outputs": [
    {
     "name": "stdout",
     "output_type": "stream",
     "text": [
      "\u001b[;1m\u001b[1;34mStair Riser Count Verification\n",
      "\u001b[;1m\u001b[1;31m[FAIL] \u001b[;1m(0/5) Stair NumberOfRiser Check\n",
      "\u001b[1;36m    Applies to:\n",
      "\u001b[0;0m        All IFCSTAIR data\n",
      "\u001b[1;36m    Requirements:\n",
      "\u001b[0;0m\u001b[0;0m\u001b[1;31m        NumberOfRiser data shall be {'minExclusive': '0'} and in the dataset Pset_StairCommon\n",
      "\u001b[0;0m            \u001b[0;0mThe property's data type \u001b[0;95mIfcCountMeasure\u001b[0;0m does not match the required data type of \u001b[0;95mIFCPOSITIVEINTEGER\u001b[0;0m\u001b[0;90m - #243934=IfcStair('2tT4lurefEGuiwmAag0on9',#42,'Assembled Stair:Stair:453725',$,'Assembled Stair:190mm max riser 250mm going',#243938,#244509,'453725',.STRAIGHT_RUN_STAIR.)\n",
      "\u001b[0;0m            \u001b[0;0mThe property value \u001b[0;95m0.0\u001b[0;0m does not match the requirements\u001b[0;90m - #244821=IfcStair('2tT4lurefEGuiwmAag0os0',#42,'Stairs finishing1:Stairs finishing:454036',$,'Stairs finishing1:Stairs finishing',#244819,#244815,'454036',.NOTDEFINED.)\n",
      "\u001b[0;0m            \u001b[0;0mThe property's data type \u001b[0;95mIfcCountMeasure\u001b[0;0m does not match the required data type of \u001b[0;95mIFCPOSITIVEINTEGER\u001b[0;0m\u001b[0;90m - #251198=IfcStair('2trwIWdtX79wbxeLxBD60x',#42,'Assembled Stair:Stair:468349',$,'Assembled Stair:190mm max riser 250mm going',#251202,#251773,'468349',.STRAIGHT_RUN_STAIR.)\n",
      "\u001b[0;0m            \u001b[0;0mThe property value \u001b[0;95m0.0\u001b[0;0m does not match the requirements\u001b[0;90m - #251967=IfcStair('2trwIWdtX79wbxeLxBD63v',#42,'Stairs finishing:Stairs finishing:468415',$,'Stairs finishing:Stairs finishing',#251965,#251961,'468415',.NOTDEFINED.)\n",
      "\u001b[0;0m            \u001b[0;0mThe property's data type \u001b[0;95mIfcCountMeasure\u001b[0;0m does not match the required data type of \u001b[0;95mIFCPOSITIVEINTEGER\u001b[0;0m\u001b[0;90m - #298220=IfcStair('0qT631TWf0IwT1wFys3KdH',#42,'Assembled Stair:Stair:541020',$,'Assembled Stair:190mm max riser 250mm going',#298219,$,'541020',.STRAIGHT_RUN_STAIR.)\n",
      "\u001b[0;0m\u001b[0;0m\u001b[0;0m"
     ]
    }
   ],
   "source": [
    "# load IDS\n",
    "my_ids = ids.open(\"Stair_Riser_Count_Verification.ids\")\n",
    "\n",
    "# Open the IFC file\n",
    "ifc_file = ifcopenshell.open('./data/Atlas_8_floor.ifc')\n",
    "\n",
    "# validate IFC model against IDS requirements:\n",
    "my_ids.validate(ifc_file)\n",
    "\n",
    "# show results:\n",
    "reporter.Console(my_ids).report()"
   ]
  }
 ],
 "metadata": {
  "kernelspec": {
   "display_name": "venv",
   "language": "python",
   "name": "python3"
  },
  "language_info": {
   "codemirror_mode": {
    "name": "ipython",
    "version": 3
   },
   "file_extension": ".py",
   "mimetype": "text/x-python",
   "name": "python",
   "nbconvert_exporter": "python",
   "pygments_lexer": "ipython3",
   "version": "3.12.2"
  }
 },
 "nbformat": 4,
 "nbformat_minor": 2
}
